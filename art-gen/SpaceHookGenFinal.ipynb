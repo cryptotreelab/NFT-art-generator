{
 "cells": [
  {
   "cell_type": "code",
   "execution_count": 1,
   "metadata": {},
   "outputs": [],
   "source": [
    "from PIL import Image, ImageDraw, ImageFilter , ImageFont\n",
    "import os\n",
    "import pandas as pd\n"
   ]
  },
  {
   "cell_type": "code",
   "execution_count": 2,
   "metadata": {},
   "outputs": [],
   "source": [
    "def painter(base_image, path, photo_name, pos):    \n",
    "# only png\n",
    "    sec_path = path +'\\\\'+photo_name\n",
    "    try:\n",
    "        sec_image = Image.open(sec_path)\n",
    "    except :\n",
    "        print('err in:', sec_path)\n",
    "        \n",
    "    back_image = base_image.copy()\n",
    "\n",
    "    back_image.paste(sec_image,pos,sec_image) \n",
    "    \n",
    "    back_image = back_image.convert('RGB')\n",
    "    \n",
    "    return back_image\n",
    "    "
   ]
  },
  {
   "cell_type": "code",
   "execution_count": 3,
   "metadata": {},
   "outputs": [],
   "source": [
    "def int_hash(hash ,a,b):\n",
    "    return (int(hash,16)>>a)&b"
   ]
  },
  {
   "cell_type": "code",
   "execution_count": null,
   "metadata": {},
   "outputs": [],
   "source": []
  },
  {
   "cell_type": "code",
   "execution_count": 4,
   "metadata": {},
   "outputs": [],
   "source": [
    "# colors in display and interior\n",
    "color_list_num = ['rgb(209,255,229)','rgb(142,9,0)','rgb(9,10,10)','rgb(41,1,53)','rgb(1,4,31)','rgb(40,0,1)','rgb(44,67,50)','rgb(9,10,10)','rgb(41,1,53)','rgb(1,4,31)','rgb(40,0,1)','rgb(44,67,50)'] \n",
    "color_list_display =  ['rgb(239,240,61)','rgb(255,241,14)','rgb(246,227,11)','rgb(21,15,185)','rgb(14,0,175)','rgb(229,21,161)','rgb(0,27,170)','rgb(151,39,0)','rgb(247,255,49)','rgb(247,255,49)','rgb(193,20,0)','rgb(91,0,0)']\n"
   ]
  },
  {
   "cell_type": "code",
   "execution_count": 5,
   "metadata": {},
   "outputs": [],
   "source": [
    "#planet names that we used in Display\n",
    "planet_name_list =[\"Alumina\" ,\n",
    "\"Trippy Magma\",\n",
    "\"Coppernicus\",\n",
    "\"Kelvin\",\n",
    "\"Tiffany Blue\",\n",
    "\"Gem Crust\",\n",
    "\"Ornge\",\n",
    "\"Briliant Silver\",\n",
    "\"Aurora\",\n",
    "\"Amethyst\",\n",
    "\"Graphene\",\n",
    "\"Pomegrante\",\n",
    "\"Yellow Cupcake\",\n",
    "\"Cammo Lake\",\n",
    "\"Duck Weed\",\n",
    "\"Midas\"] "
   ]
  },
  {
   "cell_type": "code",
   "execution_count": 6,
   "metadata": {},
   "outputs": [],
   "source": [
    "\n",
    "def make_scene(scene_width,scene_height,path,tokenId):\n",
    "    img = Image.new(\"RGB\", (scene_width, scene_height))\n",
    "    # XmasBook Hash act as DNA for all of SpaceHooks\n",
    "    hash_s = hex(int(hashdf.loc[tokenId%2022,\"hash\"],16) << (tokenId//2022)*64)\n",
    "\n",
    "    for j in range(12):\n",
    "        ###progress status\n",
    "        print(\"doing\"+ str(tokenId) + \":\"+ df.loc[j,'source'] , flush=True, end =\"\\r\")\n",
    "        \n",
    "        ## pasting\n",
    "        i = int_hash(hash_s,int(df.loc[j,'shift']),int(df.loc[j,'andNum']))%int(df.loc[j,'rem'])\n",
    "\n",
    "\n",
    "        t_pos = (int(df.loc[j,'posx']) , int(df.loc[j,'posy']))\n",
    "        \n",
    "        t_path = path + '\\\\'+df.loc[j,'source']\n",
    "\n",
    "        entries = os.listdir(t_path)\n",
    "        #some aritmatics that we used for making better paintings\n",
    "        k= tokenId%5\n",
    "        l = int(df.loc[j, \"subSample\"])\n",
    "        k= tokenId%l\n",
    "        f = i*l + k\n",
    "        img = painter(base_image=img ,path=t_path, photo_name=entries[f], pos=t_pos)\n",
    "#     img.show()\n",
    "#########################\n",
    "\n",
    "\n",
    "    ksum = 0\n",
    "    k = [1,1,1,1,1]\n",
    "    for i in range(5):\n",
    "        k[i] = int_hash(hash_s,220-i*4,15)+1\n",
    "        ksum = k[i] + ksum\n",
    "    a = ''\n",
    "    for i in range(5):\n",
    "        a = a + str(int(k[i]*100/ksum)).zfill(2) + ' '\n",
    "        \n",
    "    #draw object handles the texts on spaceship display and top left corner\n",
    "    draw = ImageDraw.Draw(img)\n",
    "    \n",
    "   #draw0 : draw the token number at top left corner\n",
    "    (x, y) = (20 , 20)\n",
    "    tokenId_zero_filled = str(tokenId).zfill(4)\n",
    "    hash_draw = tokenId_zero_filled #+ \": \" + hash_story\n",
    "    \n",
    "\n",
    "    cb = int_hash(hash_s,int(df.loc[7,'shift']),int(df.loc[7,'andNum']))%int(df.loc[7,'rem'])\n",
    "\n",
    "    planet_num = int_hash(hash_s,248,15)%16\n",
    "    \n",
    "    font_num = ImageFont.truetype(\"PrintChar21.ttf\", size=28)\n",
    "    draw.text((x, y), hash_draw, fill=color_list_num[0], font=font_num)\n",
    "    #draw1\n",
    "    atm = \"H  C  N  O  P \\n\" + a \n",
    "    font_atm = ImageFont.truetype(\"PrintChar21.ttf\", size=29)\n",
    "    (x, y) = (928 , 48)\n",
    "\n",
    "    tokenId_zero_filled = str(tokenId).zfill(4)\n",
    "    hash_draw = tokenId_zero_filled #+ \": \" + hash_story\n",
    "    draw.text((x, y), atm, fill=color_list_display[cb], font=font_atm)\n",
    "    \n",
    "    #draw2\n",
    "    (x, y) = (926 , 584)\n",
    "    font_main_dis = ImageFont.truetype(\"PrintChar21.ttf\", size=26)\n",
    "    main_dis = \"Landing \\nSuccessful\\nPlanet:\"\n",
    "    draw.text((x, y), main_dis, fill=color_list_display[cb], font=font_main_dis)\n",
    "    \n",
    "    #draw3\n",
    "    (x, y) = (926 , 664)\n",
    "    font_main_dis = ImageFont.truetype(\"PrintChar21.ttf\", size=24)\n",
    "    main_dis = '<'+planet_name_list[planet_num]+'>'\n",
    "    draw.text((x, y), main_dis, fill=color_list_display[cb], font=font_main_dis)\n",
    "########### image is ready\n",
    "    return img \n"
   ]
  },
  {
   "cell_type": "code",
   "execution_count": 7,
   "metadata": {},
   "outputs": [],
   "source": [
    "def make_img_and_save_(tokenId,source_path,tar_path):\n",
    "\n",
    "    img = make_scene(scene_width=3000,scene_height=1000,path=source_path,tokenId =tokenId)\n",
    "\n",
    "    img_name = tar_path +'\\\\'+str(tokenId)+'.jpeg'\n",
    "\n",
    "    img.save(img_name)"
   ]
  },
  {
   "cell_type": "code",
   "execution_count": 8,
   "metadata": {},
   "outputs": [
    {
     "name": "stdout",
     "output_type": "stream",
     "text": [
      "        source  posx  posy  shift  andNum  rem  subSample\n",
      "0          sky     0     0    252      15   12          4\n",
      "1       planet     0     0    248      15   16          5\n",
      "2  planet-line     0     0      0      15    1          1\n",
      "3         moon     0     0    244      15    8          1\n",
      "4    celestial     0     0    240      15    7          1\n"
     ]
    }
   ],
   "source": [
    "path = 'E:\\\\dream engine\\\\source_Images'\n",
    "tar_path = 'E:\\\\dream engine\\\\target_Images'\n",
    "df = pd.read_csv('E:\\dream engine\\\\spacehook.csv')\n",
    "hashdf = pd.read_csv('E:\\\\dream engine\\\\xmasbook_hash.csv')\n",
    "# you may need to change this \n",
    "print(df.head())"
   ]
  },
  {
   "cell_type": "code",
   "execution_count": 9,
   "metadata": {
    "scrolled": false
   },
   "outputs": [
    {
     "name": "stdout",
     "output_type": "stream",
     "text": [
      "doing381:cabinpecies\r"
     ]
    },
    {
     "ename": "KeyboardInterrupt",
     "evalue": "",
     "output_type": "error",
     "traceback": [
      "\u001b[1;31m---------------------------------------------------------------------------\u001b[0m",
      "\u001b[1;31mKeyboardInterrupt\u001b[0m                         Traceback (most recent call last)",
      "\u001b[1;32m<ipython-input-9-dee22b4bf448>\u001b[0m in \u001b[0;36m<module>\u001b[1;34m\u001b[0m\n\u001b[0;32m      1\u001b[0m \u001b[0mnumber_of_tokens\u001b[0m \u001b[1;33m=\u001b[0m\u001b[1;36m4222\u001b[0m\u001b[1;33m\u001b[0m\u001b[1;33m\u001b[0m\u001b[0m\n\u001b[0;32m      2\u001b[0m \u001b[1;32mfor\u001b[0m \u001b[0mi\u001b[0m \u001b[1;32min\u001b[0m \u001b[0mrange\u001b[0m\u001b[1;33m(\u001b[0m\u001b[0mnumber_of_tokens\u001b[0m\u001b[1;33m)\u001b[0m\u001b[1;33m:\u001b[0m\u001b[1;33m\u001b[0m\u001b[1;33m\u001b[0m\u001b[0m\n\u001b[1;32m----> 3\u001b[1;33m     \u001b[0mmake_img_and_save_\u001b[0m\u001b[1;33m(\u001b[0m\u001b[0mtokenId\u001b[0m\u001b[1;33m=\u001b[0m\u001b[0mi\u001b[0m\u001b[1;33m,\u001b[0m\u001b[0msource_path\u001b[0m\u001b[1;33m=\u001b[0m \u001b[0mpath\u001b[0m\u001b[1;33m,\u001b[0m\u001b[0mtar_path\u001b[0m\u001b[1;33m=\u001b[0m\u001b[0mtar_path\u001b[0m\u001b[1;33m)\u001b[0m\u001b[1;33m\u001b[0m\u001b[1;33m\u001b[0m\u001b[0m\n\u001b[0m",
      "\u001b[1;32m<ipython-input-7-18be80018d4c>\u001b[0m in \u001b[0;36mmake_img_and_save_\u001b[1;34m(tokenId, source_path, tar_path)\u001b[0m\n\u001b[0;32m      1\u001b[0m \u001b[1;32mdef\u001b[0m \u001b[0mmake_img_and_save_\u001b[0m\u001b[1;33m(\u001b[0m\u001b[0mtokenId\u001b[0m\u001b[1;33m,\u001b[0m\u001b[0msource_path\u001b[0m\u001b[1;33m,\u001b[0m\u001b[0mtar_path\u001b[0m\u001b[1;33m)\u001b[0m\u001b[1;33m:\u001b[0m\u001b[1;33m\u001b[0m\u001b[1;33m\u001b[0m\u001b[0m\n\u001b[0;32m      2\u001b[0m \u001b[1;33m\u001b[0m\u001b[0m\n\u001b[1;32m----> 3\u001b[1;33m     \u001b[0mimg\u001b[0m \u001b[1;33m=\u001b[0m \u001b[0mmake_scene\u001b[0m\u001b[1;33m(\u001b[0m\u001b[0mscene_width\u001b[0m\u001b[1;33m=\u001b[0m\u001b[1;36m3000\u001b[0m\u001b[1;33m,\u001b[0m\u001b[0mscene_height\u001b[0m\u001b[1;33m=\u001b[0m\u001b[1;36m1000\u001b[0m\u001b[1;33m,\u001b[0m\u001b[0mpath\u001b[0m\u001b[1;33m=\u001b[0m\u001b[0msource_path\u001b[0m\u001b[1;33m,\u001b[0m\u001b[0mtokenId\u001b[0m \u001b[1;33m=\u001b[0m\u001b[0mtokenId\u001b[0m\u001b[1;33m)\u001b[0m\u001b[1;33m\u001b[0m\u001b[1;33m\u001b[0m\u001b[0m\n\u001b[0m\u001b[0;32m      4\u001b[0m \u001b[1;33m\u001b[0m\u001b[0m\n\u001b[0;32m      5\u001b[0m     \u001b[0mimg_name\u001b[0m \u001b[1;33m=\u001b[0m \u001b[0mtar_path\u001b[0m \u001b[1;33m+\u001b[0m\u001b[1;34m'\\\\'\u001b[0m\u001b[1;33m+\u001b[0m\u001b[0mstr\u001b[0m\u001b[1;33m(\u001b[0m\u001b[0mtokenId\u001b[0m\u001b[1;33m)\u001b[0m\u001b[1;33m+\u001b[0m\u001b[1;34m'.jpeg'\u001b[0m\u001b[1;33m\u001b[0m\u001b[1;33m\u001b[0m\u001b[0m\n",
      "\u001b[1;32m<ipython-input-6-68fa3884acd1>\u001b[0m in \u001b[0;36mmake_scene\u001b[1;34m(scene_width, scene_height, path, tokenId)\u001b[0m\n\u001b[0;32m     22\u001b[0m         \u001b[0mk\u001b[0m\u001b[1;33m=\u001b[0m \u001b[0mtokenId\u001b[0m\u001b[1;33m%\u001b[0m\u001b[0ml\u001b[0m\u001b[1;33m\u001b[0m\u001b[1;33m\u001b[0m\u001b[0m\n\u001b[0;32m     23\u001b[0m         \u001b[0mf\u001b[0m \u001b[1;33m=\u001b[0m \u001b[0mi\u001b[0m\u001b[1;33m*\u001b[0m\u001b[0ml\u001b[0m \u001b[1;33m+\u001b[0m \u001b[0mk\u001b[0m\u001b[1;33m\u001b[0m\u001b[1;33m\u001b[0m\u001b[0m\n\u001b[1;32m---> 24\u001b[1;33m         \u001b[0mimg\u001b[0m \u001b[1;33m=\u001b[0m \u001b[0mpainter\u001b[0m\u001b[1;33m(\u001b[0m\u001b[0mbase_image\u001b[0m\u001b[1;33m=\u001b[0m\u001b[0mimg\u001b[0m \u001b[1;33m,\u001b[0m\u001b[0mpath\u001b[0m\u001b[1;33m=\u001b[0m\u001b[0mt_path\u001b[0m\u001b[1;33m,\u001b[0m \u001b[0mphoto_name\u001b[0m\u001b[1;33m=\u001b[0m\u001b[0mentries\u001b[0m\u001b[1;33m[\u001b[0m\u001b[0mf\u001b[0m\u001b[1;33m]\u001b[0m\u001b[1;33m,\u001b[0m \u001b[0mpos\u001b[0m\u001b[1;33m=\u001b[0m\u001b[0mt_pos\u001b[0m\u001b[1;33m)\u001b[0m\u001b[1;33m\u001b[0m\u001b[1;33m\u001b[0m\u001b[0m\n\u001b[0m\u001b[0;32m     25\u001b[0m \u001b[1;31m#     img.show()\u001b[0m\u001b[1;33m\u001b[0m\u001b[1;33m\u001b[0m\u001b[1;33m\u001b[0m\u001b[0m\n\u001b[0;32m     26\u001b[0m \u001b[1;31m#########################\u001b[0m\u001b[1;33m\u001b[0m\u001b[1;33m\u001b[0m\u001b[1;33m\u001b[0m\u001b[0m\n",
      "\u001b[1;32m<ipython-input-2-39aa2fbd3581>\u001b[0m in \u001b[0;36mpainter\u001b[1;34m(base_image, path, photo_name, pos)\u001b[0m\n\u001b[0;32m      9\u001b[0m     \u001b[0mback_image\u001b[0m \u001b[1;33m=\u001b[0m \u001b[0mbase_image\u001b[0m\u001b[1;33m.\u001b[0m\u001b[0mcopy\u001b[0m\u001b[1;33m(\u001b[0m\u001b[1;33m)\u001b[0m\u001b[1;33m\u001b[0m\u001b[1;33m\u001b[0m\u001b[0m\n\u001b[0;32m     10\u001b[0m \u001b[1;33m\u001b[0m\u001b[0m\n\u001b[1;32m---> 11\u001b[1;33m     \u001b[0mback_image\u001b[0m\u001b[1;33m.\u001b[0m\u001b[0mpaste\u001b[0m\u001b[1;33m(\u001b[0m\u001b[0msec_image\u001b[0m\u001b[1;33m,\u001b[0m\u001b[0mpos\u001b[0m\u001b[1;33m,\u001b[0m\u001b[0msec_image\u001b[0m\u001b[1;33m)\u001b[0m\u001b[1;33m\u001b[0m\u001b[1;33m\u001b[0m\u001b[0m\n\u001b[0m\u001b[0;32m     12\u001b[0m \u001b[1;33m\u001b[0m\u001b[0m\n\u001b[0;32m     13\u001b[0m     \u001b[0mback_image\u001b[0m \u001b[1;33m=\u001b[0m \u001b[0mback_image\u001b[0m\u001b[1;33m.\u001b[0m\u001b[0mconvert\u001b[0m\u001b[1;33m(\u001b[0m\u001b[1;34m'RGB'\u001b[0m\u001b[1;33m)\u001b[0m\u001b[1;33m\u001b[0m\u001b[1;33m\u001b[0m\u001b[0m\n",
      "\u001b[1;32mC:\\pythonic\\Anaconda3\\lib\\site-packages\\PIL\\Image.py\u001b[0m in \u001b[0;36mpaste\u001b[1;34m(self, im, box, mask)\u001b[0m\n\u001b[0;32m   1502\u001b[0m \u001b[1;33m\u001b[0m\u001b[0m\n\u001b[0;32m   1503\u001b[0m         \u001b[1;32melif\u001b[0m \u001b[0misImageType\u001b[0m\u001b[1;33m(\u001b[0m\u001b[0mim\u001b[0m\u001b[1;33m)\u001b[0m\u001b[1;33m:\u001b[0m\u001b[1;33m\u001b[0m\u001b[1;33m\u001b[0m\u001b[0m\n\u001b[1;32m-> 1504\u001b[1;33m             \u001b[0mim\u001b[0m\u001b[1;33m.\u001b[0m\u001b[0mload\u001b[0m\u001b[1;33m(\u001b[0m\u001b[1;33m)\u001b[0m\u001b[1;33m\u001b[0m\u001b[1;33m\u001b[0m\u001b[0m\n\u001b[0m\u001b[0;32m   1505\u001b[0m             \u001b[1;32mif\u001b[0m \u001b[0mself\u001b[0m\u001b[1;33m.\u001b[0m\u001b[0mmode\u001b[0m \u001b[1;33m!=\u001b[0m \u001b[0mim\u001b[0m\u001b[1;33m.\u001b[0m\u001b[0mmode\u001b[0m\u001b[1;33m:\u001b[0m\u001b[1;33m\u001b[0m\u001b[1;33m\u001b[0m\u001b[0m\n\u001b[0;32m   1506\u001b[0m                 \u001b[1;32mif\u001b[0m \u001b[0mself\u001b[0m\u001b[1;33m.\u001b[0m\u001b[0mmode\u001b[0m \u001b[1;33m!=\u001b[0m \u001b[1;34m\"RGB\"\u001b[0m \u001b[1;32mor\u001b[0m \u001b[0mim\u001b[0m\u001b[1;33m.\u001b[0m\u001b[0mmode\u001b[0m \u001b[1;32mnot\u001b[0m \u001b[1;32min\u001b[0m \u001b[1;33m(\u001b[0m\u001b[1;34m\"RGBA\"\u001b[0m\u001b[1;33m,\u001b[0m \u001b[1;34m\"RGBa\"\u001b[0m\u001b[1;33m)\u001b[0m\u001b[1;33m:\u001b[0m\u001b[1;33m\u001b[0m\u001b[1;33m\u001b[0m\u001b[0m\n",
      "\u001b[1;32mC:\\pythonic\\Anaconda3\\lib\\site-packages\\PIL\\ImageFile.py\u001b[0m in \u001b[0;36mload\u001b[1;34m(self)\u001b[0m\n\u001b[0;32m    263\u001b[0m \u001b[1;33m\u001b[0m\u001b[0m\n\u001b[0;32m    264\u001b[0m                             \u001b[0mb\u001b[0m \u001b[1;33m=\u001b[0m \u001b[0mb\u001b[0m \u001b[1;33m+\u001b[0m \u001b[0ms\u001b[0m\u001b[1;33m\u001b[0m\u001b[1;33m\u001b[0m\u001b[0m\n\u001b[1;32m--> 265\u001b[1;33m                             \u001b[0mn\u001b[0m\u001b[1;33m,\u001b[0m \u001b[0merr_code\u001b[0m \u001b[1;33m=\u001b[0m \u001b[0mdecoder\u001b[0m\u001b[1;33m.\u001b[0m\u001b[0mdecode\u001b[0m\u001b[1;33m(\u001b[0m\u001b[0mb\u001b[0m\u001b[1;33m)\u001b[0m\u001b[1;33m\u001b[0m\u001b[1;33m\u001b[0m\u001b[0m\n\u001b[0m\u001b[0;32m    266\u001b[0m                             \u001b[1;32mif\u001b[0m \u001b[0mn\u001b[0m \u001b[1;33m<\u001b[0m \u001b[1;36m0\u001b[0m\u001b[1;33m:\u001b[0m\u001b[1;33m\u001b[0m\u001b[1;33m\u001b[0m\u001b[0m\n\u001b[0;32m    267\u001b[0m                                 \u001b[1;32mbreak\u001b[0m\u001b[1;33m\u001b[0m\u001b[1;33m\u001b[0m\u001b[0m\n",
      "\u001b[1;31mKeyboardInterrupt\u001b[0m: "
     ]
    }
   ],
   "source": [
    "\n",
    "number_of_tokens =4222 \n",
    "for i in range(number_of_tokens):\n",
    "    make_img_and_save_(tokenId=i,source_path= path,tar_path=tar_path)\n"
   ]
  },
  {
   "cell_type": "code",
   "execution_count": null,
   "metadata": {},
   "outputs": [],
   "source": []
  },
  {
   "cell_type": "code",
   "execution_count": null,
   "metadata": {},
   "outputs": [],
   "source": []
  }
 ],
 "metadata": {
  "kernelspec": {
   "display_name": "Python 3",
   "language": "python",
   "name": "python3"
  },
  "language_info": {
   "codemirror_mode": {
    "name": "ipython",
    "version": 3
   },
   "file_extension": ".py",
   "mimetype": "text/x-python",
   "name": "python",
   "nbconvert_exporter": "python",
   "pygments_lexer": "ipython3",
   "version": "3.7.3"
  }
 },
 "nbformat": 4,
 "nbformat_minor": 2
}
